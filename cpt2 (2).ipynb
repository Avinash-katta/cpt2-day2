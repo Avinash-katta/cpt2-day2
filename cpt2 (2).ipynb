{
 "cells": [
  {
   "cell_type": "code",
   "execution_count": 3,
   "id": "f65d4c26-c58b-4272-b489-42932d44b438",
   "metadata": {},
   "outputs": [
    {
     "name": "stdout",
     "output_type": "stream",
     "text": [
      "100\n",
      "This is a class method\n"
     ]
    }
   ],
   "source": [
    "class abc():\n",
    "    var=100\n",
    "    def display(self):\n",
    "        print(\"This is a class method\")\n",
    "obj=abc()\n",
    "print(obj.var)\n",
    "obj.display()"
   ]
  },
  {
   "cell_type": "code",
   "execution_count": 59,
   "id": "94ab0eac-ca4e-40d4-9041-6bc39f4bec70",
   "metadata": {},
   "outputs": [
    {
     "name": "stdout",
     "output_type": "stream",
     "text": [
      "This is a class method\n",
      "the value is 10\n"
     ]
    }
   ],
   "source": [
    "#class constructor __init__(method)\n",
    "class abc():\n",
    "    def __init__(self,val):\n",
    "        print(\"This is a class method\")\n",
    "        self.val=val\n",
    "        print(\"the value is\",self.val)\n",
    "\n",
    "obj=abc(10)"
   ]
  },
  {
   "cell_type": "code",
   "execution_count": 65,
   "id": "3135e57e-4596-49ce-acad-2e4e1ee8be03",
   "metadata": {},
   "outputs": [
    {
     "name": "stdout",
     "output_type": "stream",
     "text": [
      "obj var: 10\n",
      "class obj 1\n",
      "obj var: 20\n",
      "class obj 2\n"
     ]
    }
   ],
   "source": [
    "#class obj variables\n",
    "class abc():\n",
    "    cv=0\n",
    "    def __init__(self,var):\n",
    "        abc.cv+=1\n",
    "        self.var=var\n",
    "        print(\"obj var:\",var)\n",
    "        print(\"class obj\",abc.cv)\n",
    "obj=abc(10)\n",
    "obj=abc(20)\n"
   ]
  },
  {
   "cell_type": "code",
   "execution_count": 81,
   "id": "fc17eed2-2058-4346-a983-5d1bc9ea31e2",
   "metadata": {},
   "outputs": [
    {
     "name": "stdout",
     "output_type": "stream",
     "text": [
      "22 is even\n"
     ]
    }
   ],
   "source": [
    "class number:\n",
    "\n",
    "\n",
    "    even=0\n",
    "    def check(self,num):\n",
    "        if num%2==0:\n",
    "            self.even=1\n",
    "    def eo(self,num):\n",
    "        self.check(num)\n",
    "        if self.even==1:\n",
    "            print(num,\"is even\")\n",
    "        else:\n",
    "            print(num,\"is odd\")\n",
    "n=number()\n",
    "n.eo(22)"
   ]
  },
  {
   "cell_type": "code",
   "execution_count": 85,
   "id": "c19d648b-3830-4296-8092-09e1723f7052",
   "metadata": {},
   "outputs": [
    {
     "name": "stdout",
     "output_type": "stream",
     "text": [
      "even [54]\n",
      "odd: [21, 85, 43, 65]\n"
     ]
    }
   ],
   "source": [
    "class number:\n",
    "    evens=[]\n",
    "    odds=[]\n",
    "    def __init__(self,num):\n",
    "        self.num=num\n",
    "        if num%2==0:\n",
    "            number.evens.append(num)\n",
    "        else:\n",
    "            number.odds.append(num)\n",
    "n1=number(21)\n",
    "n2=number(85)\n",
    "n3=number(43)\n",
    "n4=number(54)\n",
    "n5=number(65)\n",
    "print(\"even\",number.evens)\n",
    "print(\"odd:\",number.odds)"
   ]
  },
  {
   "cell_type": "code",
   "execution_count": 17,
   "id": "fcad7a3a-a7ec-470a-9f27-d2a49ab76703",
   "metadata": {},
   "outputs": [
    {
     "name": "stdout",
     "output_type": "stream",
     "text": [
      "the value stored in obj is <__main__.abc object at 0x000001B17B6AA660>\n",
      "the len of name stored in obj 6\n",
      "second value is less than first\n"
     ]
    }
   ],
   "source": [
    "\n",
    "class abc():\n",
    "    def __init__(self, name, var):\n",
    "        self.name=name\n",
    "        self.var=var\n",
    "    def _repr_(self): \n",
    "        return repr(self.var)\n",
    "    def __len__(self):\n",
    "        return len(self.name)\n",
    "    def __cmp__(self, obj):\n",
    "        return self.var-obj.var\n",
    "obj=abc(\"abcdef\",10)\n",
    "print(\"the value stored in obj is\",repr(obj))\n",
    "print(\"the len of name stored in obj\",len(obj))\n",
    "obj1=abc(\"ghijkl\",1)\n",
    "\n",
    "val= obj.__cmp__(obj1)\n",
    "if val==0:\n",
    "    print(\"Both vallues ar equal\")\n",
    "elif val==-1:\n",
    "    print(\"First value is less than second\")\n",
    "else:\n",
    "    print(\"second value is less than first\")"
   ]
  },
  {
   "cell_type": "code",
   "execution_count": 23,
   "id": "6a5b4724-eb39-4ef7-8307-fe91419ff940",
   "metadata": {},
   "outputs": [
    {
     "name": "stdout",
     "output_type": "stream",
     "text": [
      "obj var: 10\n",
      "class obj 1\n",
      "obj var: 20\n",
      "class obj 2\n"
     ]
    }
   ],
   "source": [
    "#delete method = __del__()\n",
    "class abc():\n",
    "    cv=0\n",
    "    def __init__(self,var):\n",
    "        abc.cv+=1\n",
    "        self.var=var\n",
    "        print(\"obj var:\",var)\n",
    "        print(\"class obj\",abc.cv)\n",
    "obj=abc(10)\n",
    "obj=abc(20)"
   ]
  },
  {
   "cell_type": "code",
   "execution_count": 27,
   "id": "2dbd3d8f-78ca-4bc1-94a7-15ccfb35f757",
   "metadata": {},
   "outputs": [
    {
     "name": "stdout",
     "output_type": "stream",
     "text": [
      "<__main__.numbers object at 0x000001B178A552E0>\n",
      "[1, 2, 3, 10, 5, 6, 7, 8, 9]\n"
     ]
    }
   ],
   "source": [
    "class numbers:\n",
    "    def __init__(self,mylist):\n",
    "        self.mylist=mylist\n",
    "    def __getitem__(self,index):\n",
    "        return self.mylist[index]\n",
    "    def __setitem__(self,index,val):\n",
    "        self.mylist[index]=val\n",
    "numlist=numbers([1,2,3,4,5,6,7,8,9])\n",
    "print(numlist)\n",
    "numlist[3]=10\n",
    "print(numlist.mylist)"
   ]
  }
 ],
 "metadata": {
  "kernelspec": {
   "display_name": "Python 3 (ipykernel)",
   "language": "python",
   "name": "python3"
  },
  "language_info": {
   "codemirror_mode": {
    "name": "ipython",
    "version": 3
   },
   "file_extension": ".py",
   "mimetype": "text/x-python",
   "name": "python",
   "nbconvert_exporter": "python",
   "pygments_lexer": "ipython3",
   "version": "3.12.7"
  }
 },
 "nbformat": 4,
 "nbformat_minor": 5
}
